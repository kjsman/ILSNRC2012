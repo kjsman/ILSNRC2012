{
  "nbformat": 4,
  "nbformat_minor": 0,
  "metadata": {
    "colab": {
      "name": "NeuralHash Classifier",
      "provenance": [],
      "collapsed_sections": []
    },
    "kernelspec": {
      "name": "python3",
      "display_name": "Python 3"
    },
    "language_info": {
      "name": "python"
    }
  },
  "cells": [
    {
      "cell_type": "markdown",
      "metadata": {
        "id": "oDva_7gd73Zl"
      },
      "source": [
        "# NeuralHash Classifier\n",
        "\n",
        "This is a classifier for an output of Apple's [NeuralHash](https://www.apple.com/child-safety/pdf/CSAM_Detection_Technical_Summary.pdf) function.\n",
        "\n",
        "The model is trained on the [NeuralHash of ILSVRC2012 dataset](https://github.com/kjsman/NeuralHash-Classifier/releases/tag/t).\n",
        "\n",
        "Performance on the ImageNet validation dataset: (1,000 possible choices)\n",
        "- Top-1 Accuracy:  5.25% (0.1%, if random)\n",
        "- Top-5 Accuracy: 14.09% (0.5%, if random)\n",
        "\n",
        "Now if you think Apple's NeuralHash is defective, please consider signing [an Open Letter Against Apple's Privacy-Invasive Content Scanning Technology](https://appleprivacyletter.com/)."
      ]
    },
    {
      "cell_type": "code",
      "metadata": {
        "cellView": "form",
        "id": "ZYAWsJQV-7uU"
      },
      "source": [
        "# @title Licensed under the MIT License.\n",
        "\n",
        "# Copyright (c) 2021 Jinseo Kim\n",
        "\n",
        "# Permission is hereby granted, free of charge, to any person obtaining a copy\n",
        "# of this software and associated documentation files (the \"Software\"), to deal\n",
        "# in the Software without restriction, including without limitation the rights\n",
        "# to use, copy, modify, merge, publish, distribute, sublicense, and/or sell\n",
        "# copies of the Software, and to permit persons to whom the Software is\n",
        "# furnished to do so, subject to the following conditions:\n",
        "\n",
        "# The above copyright notice and this permission notice shall be included in\n",
        "# all copies or substantial portions of the Software.\n",
        "\n",
        "# THE SOFTWARE IS PROVIDED \"AS IS\", WITHOUT WARRANTY OF ANY KIND, EXPRESS OR\n",
        "# IMPLIED, INCLUDING BUT NOT LIMITED TO THE WARRANTIES OF MERCHANTABILITY,\n",
        "# FITNESS FOR A PARTICULAR PURPOSE AND NONINFRINGEMENT. IN NO EVENT SHALL THE\n",
        "# AUTHORS OR COPYRIGHT HOLDERS BE LIABLE FOR ANY CLAIM, DAMAGES OR OTHER\n",
        "# LIABILITY, WHETHER IN AN ACTION OF CONTRACT, TORT OR OTHERWISE, ARISING FROM,\n",
        "# OUT OF OR IN CONNECTION WITH THE SOFTWARE OR THE USE OR OTHER DEALINGS IN\n",
        "# THE SOFTWARE."
      ],
      "execution_count": 1,
      "outputs": []
    },
    {
      "cell_type": "code",
      "metadata": {
        "colab": {
          "base_uri": "https://localhost:8080/"
        },
        "cellView": "form",
        "id": "JZVP9tt37EjN",
        "outputId": "7dafbb9f-dfff-4b09-8abf-97edeccc90ae"
      },
      "source": [
        "#@title Setup (~20 seconds)\n",
        "!wget -q \"https://unsplash.com/photos/P9p2MJLMqlo/download?force=true&w=640\" -O \"cute_dog.jpg\"\n",
        "!wget -q \"https://github.com/kjsman/NeuralHash-Classifier/releases/download/models/imagenet1000_clsidx_to_labels.txt\"\n",
        "!wget -q \"https://github.com/kjsman/NeuralHash-Classifier/releases/download/models/oc.onnx\"\n",
        "%pip install -q onnxruntime\n",
        "\n",
        "import onnxruntime\n",
        "import numpy as np\n",
        "from PIL import Image\n",
        "\n",
        "import requests\n",
        "from ast import literal_eval\n",
        "from google.colab import files\n",
        "\n",
        "oc_session = onnxruntime.InferenceSession(\"oc.onnx\")\n",
        "\n",
        "with open('imagenet1000_clsidx_to_labels.txt') as f:\n",
        "    idx2name = literal_eval(f.read())\n",
        "\n",
        "print(\"Setup finished!\")"
      ],
      "execution_count": 2,
      "outputs": [
        {
          "output_type": "stream",
          "text": [
            "\u001b[K     |████████████████████████████████| 4.5 MB 5.0 MB/s \n",
            "\u001b[?25hSetup finished!\n"
          ],
          "name": "stdout"
        }
      ]
    },
    {
      "cell_type": "code",
      "metadata": {
        "colab": {
          "base_uri": "https://localhost:8080/"
        },
        "cellView": "form",
        "id": "jXrubFLVFzkb",
        "outputId": "a73fac07-8ac4-4db0-b40f-493188104064"
      },
      "source": [
        "#@title Classification (~3 seconds)\n",
        "NeuralHash = \"2273310f003ae9db0c3ff2f2\" #@param {type: 'string'}\n",
        "\n",
        "hex_digits = set(\"0123456789abcdefABCDEF\")\n",
        "if len(NeuralHash) != 24 or not all(c in hex_digits for c in NeuralHash):\n",
        "    raise ValueError(\"NeuralHash hash must be 12 bytes (24 chars) hexademical string\")\n",
        "\n",
        "data = np.unpackbits(np.frombuffer(bytes.fromhex(NeuralHash), dtype=np.uint8)).reshape((-1, 96)).astype(np.float32)\n",
        "\n",
        "inputs = {oc_session.get_inputs()[0].name: data}\n",
        "outs = oc_session.run(None, inputs)\n",
        "\n",
        "result = np.argsort(-outs[0][0])[:10]\n",
        "\n",
        "names = map(lambda x: idx2name[x], result)\n",
        "probs = (outs[0][0][result] * 100).tolist()\n",
        "pretty_result = map(lambda x: f\"({x[1]:5.2f}%) {x[0]}\", zip(names, probs))\n",
        "print('\\n'.join(pretty_result))"
      ],
      "execution_count": 4,
      "outputs": [
        {
          "output_type": "stream",
          "text": [
            "(14.17%) Dandie Dinmont, Dandie Dinmont terrier\n",
            "( 5.98%) Maltese dog, Maltese terrier, Maltese\n",
            "( 4.88%) golden retriever\n",
            "( 3.86%) lemon\n",
            "( 2.87%) Granny Smith\n",
            "( 2.66%) butternut squash\n",
            "( 2.30%) clumber, clumber spaniel\n",
            "( 2.15%) Lhasa, Lhasa apso\n",
            "( 1.95%) orange\n",
            "( 1.79%) miniature poodle\n"
          ],
          "name": "stdout"
        }
      ]
    }
  ]
}
